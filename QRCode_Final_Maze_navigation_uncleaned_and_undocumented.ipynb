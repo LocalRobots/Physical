{
 "cells": [
  {
   "cell_type": "markdown",
   "metadata": {},
   "source": [
    "<center><img src=\"logo.png\" alt=\"Header\" style=\"width: 800px;\"/></center>"
   ]
  },
  {
   "cell_type": "code",
   "execution_count": 1,
   "metadata": {},
   "outputs": [],
   "source": [
    "# 导入库  import library\n",
    "import cv2\n",
    "import ipywidgets.widgets as widgets\n",
    "from IPython.display import display\n",
    "import logging\n",
    "import time\n",
    "import threading\n",
    "import inspect\n",
    "import ctypes\n",
    "import numpy as np\n",
    "import pyzbar.pyzbar as pyzbar\n",
    "\n",
    "import random\n",
    "from enum import Enum, auto"
   ]
  },
  {
   "cell_type": "code",
   "execution_count": 2,
   "metadata": {},
   "outputs": [],
   "source": [
    "# Dogzilla drive library\n",
    "from DOGZILLALib import DOGZILLA\n",
    "g_dog = DOGZILLA()"
   ]
  },
  {
   "cell_type": "markdown",
   "metadata": {},
   "source": [
    "# 二维码识别 QRCode recognition"
   ]
  },
  {
   "cell_type": "code",
   "execution_count": 3,
   "metadata": {},
   "outputs": [],
   "source": [
    "# 中文开关，默认为英文 Chinese switch. The default value is English\n",
    "g_ENABLE_CHINESE = False\n",
    "\n",
    "Name_widgets = {\n",
    "    'Close_Camera': (\"Close_Camera\", \"关闭摄像头\")\n",
    "}"
   ]
  },
  {
   "cell_type": "code",
   "execution_count": 4,
   "metadata": {},
   "outputs": [],
   "source": [
    "# 图像数据转化  Image data transformation\n",
    "def bgr8_to_jpeg(value, quality=75):\n",
    "    return bytes(cv2.imencode('.jpg', value)[1])"
   ]
  },
  {
   "cell_type": "code",
   "execution_count": 5,
   "metadata": {},
   "outputs": [],
   "source": [
    "# 关闭线程  stop thread\n",
    "def _async_raise(tid, exctype):\n",
    "    \"\"\"raises the exception, performs cleanup if needed\"\"\"\n",
    "    tid = ctypes.c_long(tid)\n",
    "    if not inspect.isclass(exctype):\n",
    "        exctype = type(exctype)\n",
    "    res = ctypes.pythonapi.PyThreadState_SetAsyncExc(tid, ctypes.py_object(exctype))\n",
    "    if res == 0:\n",
    "        raise ValueError(\"invalid thread id\")\n",
    "    elif res != 1:\n",
    "        # \"\"\"if it returns a number greater than one, you're in trouble,\n",
    "        # and you should call it again with exc=NULL to revert the effect\"\"\"\n",
    "        ctypes.pythonapi.PyThreadState_SetAsyncExc(tid, None)\n",
    "        \n",
    "def stop_thread(thread):\n",
    "    _async_raise(thread.ident, SystemExit)"
   ]
  },
  {
   "cell_type": "code",
   "execution_count": 6,
   "metadata": {},
   "outputs": [
    {
     "data": {
      "text/plain": [
       "True"
      ]
     },
     "execution_count": 6,
     "metadata": {},
     "output_type": "execute_result"
    }
   ],
   "source": [
    "# 创建摄像头显示组件  Create the camera display component\n",
    "image_widget = widgets.Image(format='jpeg', width=640, height=480)  \n",
    "\n",
    "# 打开摄像头，数字0需根据/dev/videoX修改为X\n",
    "# Turn on the camera, you need to change the number 0 to X based on /dev/videoX\n",
    "image = cv2.VideoCapture(0)\n",
    "image.set(3, 640)\n",
    "image.set(4, 480)\n",
    "image.set(5, 30)\n",
    "image.set(cv2.CAP_PROP_FOURCC, cv2.VideoWriter.fourcc('M', 'J', 'P', 'G'))"
   ]
  },
  {
   "cell_type": "code",
   "execution_count": 7,
   "metadata": {},
   "outputs": [],
   "source": [
    "# 关闭摄像头 Close_Camera\n",
    "button_Close_Camera = widgets.Button(  \n",
    "    value=False,  \n",
    "    description=Name_widgets['Close_Camera'][g_ENABLE_CHINESE],      \n",
    "    button_style='danger', # 'success', 'info', 'warning', 'danger' or ''     \n",
    "    tooltip='Description',     \n",
    "    icon='uncheck' )\n",
    "\n",
    "\n",
    "# 按键按下事件处理   Key press event processing\n",
    "def on_button_close_camera(b):\n",
    "    if b.description == Name_widgets['Close_Camera'][g_ENABLE_CHINESE]:\n",
    "        # 停止线程，释放摄像头  Stop the thread and release the camera\n",
    "        b.icon = 'uncheck'\n",
    "        stop_thread(thread1)\n",
    "        image.release()\n",
    "    \n",
    "# 关联按键事件回调 Button event callbacks\n",
    "button_Close_Camera.on_click(on_button_close_camera)"
   ]
  },
  {
   "cell_type": "code",
   "execution_count": 8,
   "metadata": {},
   "outputs": [],
   "source": [
    "commands_array = []\n",
    "\n",
    "#with open('fileName.txt', 'r') as file:\n",
    "    #commands = file.readlines()\n",
    "    #commands_array.append(commands)"
   ]
  },
  {
   "cell_type": "code",
   "execution_count": 9,
   "metadata": {},
   "outputs": [],
   "source": [
    "# global variables for movements \n",
    "bool_walk = True # walk forward or not\n",
    "bool_spin = False # decide to spin (turnleft)\n",
    "bool_scan = False # determines if qr code is read or not ; scanning QR code\n",
    "bool_back = False \n",
    "count = 0 # count for spins\n",
    "bool_turned_walk = False\n",
    "\n",
    "# storing variables\n",
    "dogzilla_behavior = 1\n",
    "adjacent_nodes = set() # stores adjacent nodes \n",
    "current_node_location = \"\" \n",
    "previous_node = \"\"\n",
    "last_seen_node = \"\"\n",
    "distance = 0 # distance until qr is seen - note: use LIDAR\n",
    "bool_determine_path = True # options in the Flow chart\n",
    "time_start = time.time()"
   ]
  },
  {
   "cell_type": "code",
   "execution_count": 10,
   "metadata": {},
   "outputs": [],
   "source": [
    "# 解析图像中的二维码信息  Analyze the qrcode information in the image\n",
    "import time ##So we can use .sleep()\n",
    "\n",
    "\n",
    "class MovementState(Enum):\n",
    "    IDLE = auto()\n",
    "    WALKING_BACK = auto()\n",
    "    WALKING_FORWARD = auto()\n",
    "    SCANNING = auto()\n",
    "    SPINNING = auto()\n",
    "    DETERMINING_PATH = auto()\n",
    "    #New for 4-14-25\n",
    "    NEARING_WALL = auto()\n",
    "    ALIGNING_QR = auto()\n",
    "\n",
    "class MovementSystem:\n",
    "    def __init__(self, g_dog, commands_array):\n",
    "        self.g_dog = g_dog\n",
    "        self.state = MovementState.WALKING_FORWARD #MovementState.WALKING_FORWARD <-- Have this once done testing\n",
    "        self.start_time = time.time()\n",
    "        self.current_node_location = None\n",
    "        self.previous_node = None\n",
    "        self.bool_determine_path = True #False\n",
    "        self.last_seen_node = None\n",
    "        self.commands_array = commands_array\n",
    "        self.target_command = commands_array[0]\n",
    "        self.adjacent_nodes = set()\n",
    "        #Have a finsihed Identifier?\n",
    "        self.completed_maze = False\n",
    "        self.alignment = []\n",
    "\n",
    "    def get_state(self):\n",
    "        _curr_state = \"\"\n",
    "        if self.state == MovementState.IDLE:\n",
    "            return \"IDLE\"\n",
    "        elif self.state == MovementState.WALKING_BACK:\n",
    "            return \"WALKING_BACK\"\n",
    "        elif self.state == MovementState.WALKING_FORWARD:\n",
    "            return \"WALKING_FORWARD\"\n",
    "        elif self.state == MovementState.SCANNING:\n",
    "            return \"SCANNING\"\n",
    "        elif self.state == MovementState.SPINNING:\n",
    "            return \"SPINNING\"\n",
    "        elif self.state == MovementState.DETERMINING_PATH:\n",
    "            return \"DETERMINING_PATH\"\n",
    "\n",
    "    def get_current_location(self):\n",
    "        return self.current_node_location\n",
    "    def get_previous_node(self):\n",
    "        return self.previous_node\n",
    "    def get_bool_determine_path(self):\n",
    "        return self.bool_determine_path\n",
    "    def get_target_command(self):\n",
    "        return self.target_command\n",
    "    def get_commands_array(self):\n",
    "        return self.commands_array\n",
    "    \n",
    "    def get_alignment(self):\n",
    "        return self.alignment\n",
    "    \n",
    "    def update(self, barcodes, barcodeData, center_x=None, frame_width=None):\n",
    "        end_time = time.time()\n",
    "        elapsed_time = end_time - self.start_time\n",
    "\n",
    "        #If there are no commands left, stop the robot\n",
    "        #Maybe make it so the state is either in SCANNING OR SPINNING?\n",
    "        if not self.commands_array and self.state == MovementState.WALKING_FORWARD and self.completed_maze: #test\n",
    "            self.g_dog.stop()\n",
    "            print(\"Maze Completed! Stopping Robot.\")\n",
    "            return #Just so that the robot doesnt do anything else\n",
    "\n",
    "            \n",
    "        # if self.state == MovementState.IDLE: #The orignal before edits on 4-14-25\n",
    "        #     if len(barcodes) == 0 and elapsed_time > 2: #could do 3 too --> was 2\n",
    "        #         self.g_dog.stop()\n",
    "        #         self.g_dog.back(5)\n",
    "        #         self.state = MovementState.WALKING_BACK\n",
    "        #         print(\"I moved backwards\")\n",
    "        #         self.start_time = time.time()\n",
    "        \n",
    "        if self.state == MovementState.IDLE:\n",
    "            if len(barcodes) == 0 and elapsed_time > 2: #could do 3 too --> was 2\n",
    "                ###self.g_dog.stop()\n",
    "                #self.g_dog.back(5)\n",
    "                self.state = MovementState.NEARING_WALL\n",
    "                print(\"I switched to NEARING_WALL\")\n",
    "                self.start_time = time.time()\n",
    "            elif len(barcodes) != 0:\n",
    "                self.g_dog.forward(5)\n",
    "                self.start_time = time.time()\n",
    "                ##--> self.start_time = time.time() #If this new thing doesnt work\n",
    "\n",
    "        elif self.state == MovementState.NEARING_WALL: #New for 4-14-25\n",
    "            if len(barcodes) != 0: #Meaning it has seen a QR Code\n",
    "                self.state = MovementState.IDLE\n",
    "                self.g_dog.forward(5) # Might reduce to 2 or 3 --> twas 5\n",
    "                self.start_time = time.time()\n",
    "            #Note for Future after 4-14-25 -->Maybe just when we hit the wall for 5 seconds that we go immediately into scanning?\n",
    "            elif len(barcodes) == 0 and elapsed_time > 3.7:#5: #The maxium tolerance of looking at wall and deciding what to do next.\n",
    "                self.g_dog.stop()\n",
    "                ###self.g_dog.back(5) #Since we determined that we are at the corner\n",
    "                self.state = MovementState.SCANNING #So it goes to wall and just turns without having to move back first\n",
    "                self.start_time = time.time()\n",
    "                \n",
    "        elif self.state == MovementState.WALKING_BACK: #04/14/Thoughts: Do we want this or just transfer NEARING_WALL logic to here.\n",
    "            if len(barcodes) == 0: #if barcodeData != None: #Do i need to check for Barcode len != 0 for all of these below? (Hoping lazy approach works)\n",
    "                self.state = MovementState.WALKING_FORWARD\n",
    "                self.g_dog.forward(5)\n",
    "                print(\"I walk forward after seeing a QR code\")\n",
    "\n",
    "        # elif self.state == MovementState.WALKING_FORWARD: #Changing on 4/8/25 --> THis is Original before 4/8\n",
    "        #     self.state = MovementState.SCANNING\n",
    "        #     self.g_dog.stop()\n",
    "        #     self.current_node_location = barcodeData\n",
    "        #     self.previous_node = self.current_node_location\n",
    "        #     print(\"Scanning QR code\")\n",
    "\n",
    "        #Note for Future after 4-14-25 -->Maybe just when we hit the wall just skip this state and go immediately into spinning?\n",
    "        elif self.state == MovementState.WALKING_FORWARD: #Changing on 4/8/25\n",
    "            if len(barcodes) != 0: #meaning that we now saw a QR Code\n",
    "                self.g_dog.stop()\n",
    "                self.state = MovementState.SCANNING\n",
    "                self.current_node_location = barcodeData\n",
    "                self.previous_node = self.current_node_location\n",
    "            #Maybe add else statement to have it walk forwards until it sees QR code and then Trigger IDLE State\n",
    "            print(\"Scanning QR code\")\n",
    "\n",
    "        elif self.state == MovementState.SCANNING: #Should Turn Logic Be here?\n",
    "            #Adding a stop statement here for Safety --> 4-10-25\n",
    "            self.g_dog.stop()\n",
    "            # The first barcode scanned determines our turn direction\n",
    "            if self.target_command == \"left\":\n",
    "                print(\"Target command is LEFT. Turning left.\")\n",
    "                self.g_dog.turnleft(1) #WAS 10 --> Was 3\n",
    "            elif self.target_command == \"right\":\n",
    "                print(\"Target command is RIGHT. Turning right.\")\n",
    "                self.g_dog.turnright(1) #WAS 10 --> Was 3\n",
    "\n",
    "            #Should I include a self.target_command == None: scenario? 4-10-25\n",
    "\n",
    "            self.state = MovementState.SPINNING\n",
    "            self.adjacent_nodes.clear()  # Reset adjacent nodes\n",
    "            print(\"Entering SPINNING state to detect new node.\")\n",
    "\n",
    "        elif self.state == MovementState.SPINNING:\n",
    "            # Collect all QR codes seen during spinning\n",
    "            if barcodeData and barcodeData != self.current_node_location:\n",
    "                self.adjacent_nodes.add(barcodeData)\n",
    "\n",
    "            # Stop when detecting the first new QR code, Since we now dont care about finding or Initializing Tree\n",
    "            # We now need to react off of first visuals and commands\n",
    "            ### Additionally, Check if the QR code is centered (within a margin of error)!!\n",
    "            if center_x is not None and frame_width is not None:\n",
    "                center_margin = 40  # pixels of acceptable offset from center --> was 40 --> Tried 15\n",
    "                frame_center = frame_width // 2\n",
    "                \n",
    "                if len(self.adjacent_nodes) > 0 and abs(center_x - frame_center) <= center_margin:# and barcodeData != self.current_node_location: #Adding on 4/8/25\n",
    "                    self.g_dog.stop()\n",
    "                    self.current_node_location = list(self.adjacent_nodes)[0] # Take the first detected node #Changing on 4/8/25\n",
    "                    print(f\"Detected new node: {self.current_node_location}, moving forward.\")\n",
    "\n",
    "                    #Need to check if its not in center of margin:\n",
    "                    \n",
    "                    # if self.target_command == \"left\":\n",
    "                    #     self.g_dog.turnright(1)\n",
    "                    # elif self.target_command == \"right\":\n",
    "                    #     self.g_dog.turnleft(1)                \n",
    "                    \n",
    "                    #was --> if True: ###if abs(center_x - frame_center) <= (center_margin-15):\n",
    "                    if abs(center_x - frame_center) <= (center_margin-15):\n",
    "                        self.g_dog.stop()\n",
    "                        #self.state = MovementState.WALKING_FORWARD #TEMP --> Should this be be set after checking if commands list is empty?(To Thonk abt)\n",
    "                        ####self.state = MovementState.DETERMINING_PATH\n",
    "                        self.state = MovementState.ALIGNING_QR\n",
    "                        self.start_time = time.time()\n",
    "                        #Checking that even if it is empty, it still needs to execute the last command\n",
    "                        #Thus we need to keep the last command untouched, and pop() on an empty list throws error & problems\n",
    "                        if not self.commands_array:\n",
    "                            self.completed_maze = True\n",
    "                        else:\n",
    "                            self.commands_array.pop(0)  # Remove executed command\n",
    "                            self.target_command = self.commands_array[0] if self.commands_array else None  # Update target command\n",
    "    \n",
    "                        ###self.g_dog.forward(10)\n",
    "                        self.adjacent_nodes.clear()\n",
    "                    else:\n",
    "                        if self.target_command == \"left\":\n",
    "                            self.g_dog.turnright(1)\n",
    "                            #self.g_dog.stop()\n",
    "                        elif self.target_command == \"right\":\n",
    "                            self.g_dog.turnleft(1)\n",
    "                            #self.g_dog.stop()\n",
    "\n",
    "        elif self.state == MovementState.DETERMINING_PATH:\n",
    "            self.bool_determine_path = True\n",
    "            self.state = MovementState.IDLE\n",
    "\n",
    "        elif self.state == MovementState.ALIGNING_QR: #This is for when we at node and want to re center after seeing where we want to go!\n",
    "            if len(barcodes) > 0:\n",
    "                barcode = barcodes[0]  # Just use the first one\n",
    "                (x, y, w, h) = barcode.rect\n",
    "                qr_center_x = x + w // 2\n",
    "                self.alignment.append(len(barcodes))\n",
    "        \n",
    "                frame_center_x = 640 // 2  # Assuming 640x480 resolution\n",
    "                margin = 15  # Pixel range for acceptable center alignment --> was 30 --> Had it at 15 but we test\n",
    "        \n",
    "                if qr_center_x < frame_center_x - margin:\n",
    "                    print(\"QR too far left. Crab-walking right.\")\n",
    "                    self.alignment.append(\"QR too far left. Crab-walking right.\")\n",
    "                    #self.g_dog.right(1)\n",
    "                    self.g_dog.turnright(1)\n",
    "                    ##self.g_dog.stop()##Remove these stops\n",
    "                elif qr_center_x > frame_center_x + margin:\n",
    "                    print(\"QR too far right. Crab-walking left.\")\n",
    "                    self.alignment.append(\"QR too far right. Crab-walking left.\")\n",
    "                    #self.g_dog.left(1)\n",
    "                    self.g_dog.turnleft(1)\n",
    "                    ##self.g_dog.stop() ##Remove these stops\n",
    "                else:\n",
    "                    print(\"QR code is centered. Proceeding to SCANNING.\")\n",
    "                    self.alignment.append(\"QR code is centered. Proceeding to SCANNING.\")\n",
    "                    self.g_dog.stop()\n",
    "                    self.g_dog.forward(5) #was 10\n",
    "                    self.state = MovementState.IDLE\n",
    "            else:\n",
    "                print(\"Lost sight of QR during ALIGNING_QR. Returning to IDLE.\")\n",
    "                self.alignment.append(\"QR code is centered. Proceeding to SCANNING.\")\n",
    "                self.state = MovementState.IDLE\n",
    "                #Mayhaps\n",
    "                self.g_dog.stop()\n",
    "\n",
    "        #Cuz Logan is Stupid\n",
    "        if len(barcodes) != 0:\n",
    "            self.last_seen_node = self.previous_node\n",
    "            # updates previous_node\n",
    "            self.previous_node = barcodeData"
   ]
  },
  {
   "cell_type": "code",
   "execution_count": 11,
   "metadata": {},
   "outputs": [
    {
     "name": "stdout",
     "output_type": "stream",
     "text": [
      "Initial yaw:  -309.2986881510417\n"
     ]
    }
   ],
   "source": [
    "#We will be acquiring the Path to Take from the Virtual Team\n",
    "#WE need to confirm if they are giving us a text file of the names on a new line or if they give us the array straight up\n",
    "#Example:\n",
    "# Node 1\n",
    "# Node 7\n",
    "# Node 4\n",
    "# Then while loop it into a array/list\n",
    "\n",
    "#For now we hardcode path\n",
    "\n",
    "\n",
    "starting_yaw = g_dog.read_imu_raw()[8]\n",
    "print(\"Initial yaw: \", starting_yaw)"
   ]
  },
  {
   "cell_type": "code",
   "execution_count": 12,
   "metadata": {},
   "outputs": [
    {
     "name": "stdout",
     "output_type": "stream",
     "text": [
      "I walked\n"
     ]
    }
   ],
   "source": [
    "# Initial walk cycle\n",
    "if bool_walk:\n",
    "    g_dog.stop()\n",
    "    ####g_dog.forward(10) # 70 is default\n",
    "    print(\"I walked\")\n",
    "    # start timer once it walks to handle deadend\n",
    "    start_time = time.time()\n",
    "\n",
    "commands_array = [\"right\", \"left\"] #Just to test\n",
    "\n",
    "###commands_array = [\"right\", \"right\", \"left\"] #Just to test\n",
    "##commands_array = [\"left\", \"right\", \"left\", \"left\", \"right\", \"left\"] #For testing Maze Set up by Rose and Nav on 4-14-25\n",
    "\n",
    "####LOGAN SWITCHING EVERYTHING TO MOVEMENT SYSTEMS\n",
    "# Initialize movement system\n",
    "movement_system = MovementSystem(g_dog, commands_array)\n",
    "\n",
    "def decodeDisplay(image, display):\n",
    "    logging.debug('Barcode read')\n",
    "    \n",
    "    barcodes = pyzbar.decode(image)\n",
    "    \n",
    "    center_x = None\n",
    "    if len(barcodes) == 0:\n",
    "        barcodeData = None\n",
    "        movement_system.update(barcodes, barcodeData, center_x, display.shape[1]) ##display.shape[1]\n",
    "        ##movement_system.update(barcodes, barcodeData, center_x=center_x, frame_width=display.shape[1]) <-- before Testing on 4-10-25\n",
    "    \n",
    "    for barcode in barcodes:\n",
    "        # 提取二维码的边界框的位置, 画出图像中条形码的边界框\n",
    "        # Extract the position of the bounding box of the qrcode, \n",
    "        # and draw the bounding box of the barcode in the image\n",
    "        (x, y, w, h) = barcode.rect\n",
    "        cv2.rectangle(display, (x, y), (x + w, y + h), (225, 225, 225), 2)\n",
    "        #04-08-25 Acquiring the Center\n",
    "        center_x = x + w // 2\n",
    "        \n",
    "        # 提取二维码数据为字节对象，转换成字符串\n",
    "        # The qrcode data is extracted as byte objects and converted into strings\n",
    "        barcodeData = barcode.data.decode(\"utf-8\")\n",
    "        barcodeType = barcode.type\n",
    "\n",
    "        # 绘出图像上条形码的数据和条形码类型  \n",
    "        # Plot the barcode data and barcode type on the image\n",
    "        text = \"{} ({})\".format(barcodeData, barcodeType)\n",
    "        cv2.putText(display, text, (x, y - 10), cv2.FONT_HERSHEY_SIMPLEX, 0.5, (225, 0, 0), 2)\n",
    "\n",
    "        #04-08-25 --> Moving Movement System being called in the event that its \n",
    "        #affecting the rendiering of the Text and border of QR Code\n",
    "        movement_system.update(barcodes, barcodeData, center_x, display.shape[1]) ##display.shape[1]\n",
    "        ##movement_system.update(barcodes, barcodeData, center_x=center_x, frame_width=display.shape[1]) <-- before Testing on 4-10-25\n",
    "    return display\n",
    "####END OF LOGAN SWITCHING EVERYTHING TO MOVEMENT SYSTEMS\n",
    "\n",
    "\n",
    "\n",
    "\n",
    "# 检测二维码  detect qrcode\n",
    "def Detect_Qrcode_Task():\n",
    "    ret, frame = image.read()\n",
    "    image_widget.value = bgr8_to_jpeg(frame)\n",
    "    t_start = time.time()\n",
    "    fps = 0\n",
    "    while True:\n",
    "        ret, frame = image.read()\n",
    "        # 转为灰度图像  Convert to grayscale image\n",
    "        gray = cv2.cvtColor(frame, cv2.COLOR_BGR2GRAY)\n",
    "        frame = decodeDisplay(gray, frame)\n",
    "        fps = fps + 1\n",
    "        mfps = fps / (time.time() - t_start)\n",
    "        cv2.putText(frame, \"FPS \" + str(int(mfps)), (40,40), cv2.FONT_HERSHEY_SIMPLEX, 0.8, (0,255,255), 3)\n",
    "        image_widget.value = bgr8_to_jpeg(frame)"
   ]
  },
  {
   "cell_type": "code",
   "execution_count": 13,
   "metadata": {},
   "outputs": [
    {
     "data": {
      "application/vnd.jupyter.widget-view+json": {
       "model_id": "7991dbdf10f946e295c9b6500882fb06",
       "version_major": 2,
       "version_minor": 0
      },
      "text/plain": [
       "HBox(children=(Image(value=b'', format='jpeg', height='480', width='640'), Button(button_style='danger', descr…"
      ]
     },
     "metadata": {},
     "output_type": "display_data"
    }
   ],
   "source": [
    "# 启动摄像头显示任务  Start the camera display task\n",
    "thread1 = threading.Thread(target=Detect_Qrcode_Task)\n",
    "thread1.setDaemon(True)\n",
    "thread1.start()\n",
    "\n",
    "box_display = widgets.HBox([image_widget, button_Close_Camera])\n",
    "display(box_display)"
   ]
  },
  {
   "cell_type": "code",
   "execution_count": 14,
   "metadata": {
    "tags": []
   },
   "outputs": [],
   "source": [
    "#g_dog.stop() #-> Just in case the robot won't stop#"
   ]
  },
  {
   "cell_type": "code",
   "execution_count": 15,
   "metadata": {},
   "outputs": [
    {
     "name": "stdout",
     "output_type": "stream",
     "text": [
      "\n",
      "[]\n",
      "True\n",
      "False\n",
      "True\n",
      "\n",
      "\n",
      "False\n"
     ]
    }
   ],
   "source": [
    "print(current_node_location)\n",
    "print(list(adjacent_nodes))\n",
    "print(bool_walk)\n",
    "print(bool_scan)\n",
    "print(bool_determine_path)\n",
    "print(last_seen_node)\n",
    "print(previous_node)\n",
    "print(bool_back)"
   ]
  },
  {
   "cell_type": "code",
   "execution_count": 16,
   "metadata": {
    "tags": []
   },
   "outputs": [
    {
     "name": "stdout",
     "output_type": "stream",
     "text": [
      "WALKING_FORWARD\n"
     ]
    }
   ],
   "source": [
    "_current_state = movement_system.get_state()\n",
    "print(_current_state)"
   ]
  },
  {
   "cell_type": "code",
   "execution_count": 17,
   "metadata": {
    "tags": []
   },
   "outputs": [
    {
     "name": "stdout",
     "output_type": "stream",
     "text": [
      "Current Node:  None\n",
      "Previous Noe:  None\n",
      "Bool Determine Path:  True\n",
      "Target Command:  right\n",
      "Path to Take:  ['right', 'left']\n"
     ]
    }
   ],
   "source": [
    "_curr_location = movement_system.get_current_location()\n",
    "_prev_node = movement_system.get_previous_node()\n",
    "_bool_dermine_path = movement_system.get_bool_determine_path()\n",
    "_target_command = movement_system.get_target_command()\n",
    "_commands_array = movement_system.get_commands_array()\n",
    "\n",
    "print(\"Current Node: \", _curr_location)\n",
    "print(\"Previous Noe: \", _prev_node)\n",
    "print(\"Bool Determine Path: \", _bool_dermine_path)\n",
    "print(\"Target Command: \",_target_command)\n",
    "print(\"Path to Take: \", _commands_array)"
   ]
  },
  {
   "cell_type": "code",
   "execution_count": null,
   "metadata": {},
   "outputs": [],
   "source": []
  },
  {
   "cell_type": "code",
   "execution_count": null,
   "metadata": {},
   "outputs": [],
   "source": []
  },
  {
   "cell_type": "code",
   "execution_count": 18,
   "metadata": {
    "tags": []
   },
   "outputs": [],
   "source": [
    "#Printing out IMU DATA\n",
    "#while(True):\n",
    "    #temp_imu = g_dog.read_imu_raw()[8]\n",
    "    #print(temp_imu)"
   ]
  },
  {
   "cell_type": "code",
   "execution_count": null,
   "metadata": {},
   "outputs": [],
   "source": []
  },
  {
   "cell_type": "code",
   "execution_count": 19,
   "metadata": {},
   "outputs": [],
   "source": [
    "# align_list = movement_system.get_alignment()\n",
    "# for req in align_list:\n",
    "#     print(req)"
   ]
  },
  {
   "cell_type": "code",
   "execution_count": null,
   "metadata": {},
   "outputs": [],
   "source": []
  }
 ],
 "metadata": {
  "kernelspec": {
   "display_name": "Python 3 (ipykernel)",
   "language": "python",
   "name": "python3"
  },
  "language_info": {
   "codemirror_mode": {
    "name": "ipython",
    "version": 3
   },
   "file_extension": ".py",
   "mimetype": "text/x-python",
   "name": "python",
   "nbconvert_exporter": "python",
   "pygments_lexer": "ipython3",
   "version": "3.12.4"
  }
 },
 "nbformat": 4,
 "nbformat_minor": 4
}
